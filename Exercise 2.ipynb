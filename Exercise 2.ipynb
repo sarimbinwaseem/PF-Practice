{
 "cells": [
  {
   "cell_type": "markdown",
   "metadata": {},
   "source": [
    "# Q 2.11"
   ]
  },
  {
   "cell_type": "code",
   "execution_count": 5,
   "metadata": {},
   "outputs": [],
   "source": [
    "# a\n",
    "sum = 0\n",
    "for i in range(-7, 0):\n",
    "    sum+=i\n",
    "print(\"Sum of -1 to -7 is:\", sum)"
   ]
  },
  {
   "cell_type": "code",
   "execution_count": null,
   "metadata": {},
   "outputs": [],
   "source": [
    "# b\n",
    "avg = (9 + 10 + 11 + 12) / 4\n",
    "print(\"Average age group at summer camp is:\",avg)"
   ]
  },
  {
   "cell_type": "code",
   "execution_count": null,
   "metadata": {},
   "outputs": [],
   "source": [
    "#c\n",
    "print(\"2 to the power -2 is:\",2**-20)"
   ]
  },
  {
   "cell_type": "code",
   "execution_count": null,
   "metadata": {},
   "outputs": [],
   "source": [
    "# d\n",
    "print(\"61 in 4365\", int(4365/61), \"times\")"
   ]
  },
  {
   "cell_type": "markdown",
   "metadata": {},
   "source": [
    "# Q 2.12"
   ]
  },
  {
   "cell_type": "code",
   "execution_count": null,
   "metadata": {},
   "outputs": [],
   "source": [
    "s1 = '-'\n",
    "s2 = '+'\n",
    "\n",
    "s1 = '-'\n",
    "s2 = '+'\n",
    "\n",
    "# a\n",
    "print(s1+s2)\n",
    "# b\n",
    "print(s1+s2+s1)\n",
    "# c\n",
    "print(s2+s1*2) \n",
    "#d\n",
    "print(s2+s1*2+s2+s1*2)\n",
    "# e\n",
    "for i in range(11):\n",
    "\tprint('+--', end='')\n",
    "print('+')\n",
    "\n",
    "# f\n",
    "for _ in range(5):\n",
    "\tprint('+–+++––', end='')"
   ]
  },
  {
   "cell_type": "markdown",
   "metadata": {},
   "source": [
    "# 2.13"
   ]
  },
  {
   "cell_type": "code",
   "execution_count": null,
   "metadata": {},
   "outputs": [],
   "source": [
    "s = \"abcdefghijklmnopqrstuvwxyz\"\n",
    "print(s[0],s[2],s[25],s[24],s[16])"
   ]
  },
  {
   "cell_type": "markdown",
   "metadata": {},
   "source": [
    "# 2.14"
   ]
  },
  {
   "cell_type": "code",
   "execution_count": null,
   "metadata": {},
   "outputs": [],
   "source": [
    "s = 'goodbye'\n",
    "\n",
    "s = 'goodbye'\n",
    "\n",
    "print('g' == s[0])\n",
    "print('g' == s[6])\n",
    "print('g' == s[0] and 'a' == s[1])\n",
    "print('x' == s[-2])\n",
    "print('d' == s[int(len(s)/2)])\n",
    "print(s[0] == s[-1])\n",
    "print(s[3:] == 'tion')"
   ]
  }
 ],
 "metadata": {
  "kernelspec": {
   "display_name": "Python 3",
   "language": "python",
   "name": "python3"
  },
  "language_info": {
   "codemirror_mode": {
    "name": "ipython",
    "version": 3
   },
   "file_extension": ".py",
   "mimetype": "text/x-python",
   "name": "python",
   "nbconvert_exporter": "python",
   "pygments_lexer": "ipython3",
   "version": "3.7.3"
  }
 },
 "nbformat": 4,
 "nbformat_minor": 2
}
